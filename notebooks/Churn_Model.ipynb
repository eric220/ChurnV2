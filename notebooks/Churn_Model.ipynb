{
 "cells": [
  {
   "cell_type": "code",
   "execution_count": 1,
   "metadata": {},
   "outputs": [],
   "source": [
    "import pandas as pd\n",
    "import matplotlib.pyplot as plt\n",
    "from sklearn.metrics import confusion_matrix, accuracy_score, roc_auc_score, roc_curve\n",
    "import numpy as np\n",
    "from sklearn.ensemble import RandomForestClassifier\n",
    "from sklearn.preprocessing import StandardScaler\n",
    "from sklearn.model_selection import train_test_split\n",
    "from sklearn.model_selection import GridSearchCV\n",
    "from sklearn.linear_model import LogisticRegression\n",
    "from sklearn.decomposition import PCA\n",
    "from sklearn.svm import SVC\n",
    "from sklearn.pipeline import make_pipeline\n",
    "from tensorflow.keras.models import Sequential\n",
    "from tensorflow.keras.layers import Dense, Dropout\n",
    "from tensorflow.keras.callbacks import EarlyStopping, ModelCheckpoint, ReduceLROnPlateau\n",
    "from sklearn.ensemble import VotingClassifier\n",
    "import warnings\n",
    "warnings.filterwarnings('ignore')\n",
    "%matplotlib inline"
   ]
  },
  {
   "cell_type": "code",
   "execution_count": 2,
   "metadata": {},
   "outputs": [
    {
     "data": {
      "text/html": [
       "<div>\n",
       "<style scoped>\n",
       "    .dataframe tbody tr th:only-of-type {\n",
       "        vertical-align: middle;\n",
       "    }\n",
       "\n",
       "    .dataframe tbody tr th {\n",
       "        vertical-align: top;\n",
       "    }\n",
       "\n",
       "    .dataframe thead th {\n",
       "        text-align: right;\n",
       "    }\n",
       "</style>\n",
       "<table border=\"1\" class=\"dataframe\">\n",
       "  <thead>\n",
       "    <tr style=\"text-align: right;\">\n",
       "      <th></th>\n",
       "      <th>tenure</th>\n",
       "      <th>OnlineSecurity</th>\n",
       "      <th>OnlineBackup</th>\n",
       "      <th>DeviceProtection</th>\n",
       "      <th>TechSupport</th>\n",
       "      <th>StreamingTV</th>\n",
       "      <th>StreamingMovies</th>\n",
       "      <th>MonthlyCharges</th>\n",
       "      <th>TotalCharges</th>\n",
       "      <th>gender_Male</th>\n",
       "      <th>...</th>\n",
       "      <th>multiple_lines</th>\n",
       "      <th>DSL</th>\n",
       "      <th>Fiber optic</th>\n",
       "      <th>Month-to-month</th>\n",
       "      <th>One year</th>\n",
       "      <th>Two year</th>\n",
       "      <th>Bank transfer (automatic)</th>\n",
       "      <th>Credit card (automatic)</th>\n",
       "      <th>Electronic check</th>\n",
       "      <th>Mailed check</th>\n",
       "    </tr>\n",
       "  </thead>\n",
       "  <tbody>\n",
       "    <tr>\n",
       "      <th>0</th>\n",
       "      <td>1</td>\n",
       "      <td>0</td>\n",
       "      <td>1</td>\n",
       "      <td>0</td>\n",
       "      <td>0</td>\n",
       "      <td>0</td>\n",
       "      <td>0</td>\n",
       "      <td>0</td>\n",
       "      <td>29.85</td>\n",
       "      <td>0</td>\n",
       "      <td>...</td>\n",
       "      <td>0</td>\n",
       "      <td>1</td>\n",
       "      <td>0</td>\n",
       "      <td>1</td>\n",
       "      <td>0</td>\n",
       "      <td>0</td>\n",
       "      <td>0</td>\n",
       "      <td>0</td>\n",
       "      <td>1</td>\n",
       "      <td>0</td>\n",
       "    </tr>\n",
       "    <tr>\n",
       "      <th>1</th>\n",
       "      <td>34</td>\n",
       "      <td>1</td>\n",
       "      <td>0</td>\n",
       "      <td>1</td>\n",
       "      <td>0</td>\n",
       "      <td>0</td>\n",
       "      <td>0</td>\n",
       "      <td>1</td>\n",
       "      <td>1889.50</td>\n",
       "      <td>1</td>\n",
       "      <td>...</td>\n",
       "      <td>0</td>\n",
       "      <td>1</td>\n",
       "      <td>0</td>\n",
       "      <td>0</td>\n",
       "      <td>1</td>\n",
       "      <td>0</td>\n",
       "      <td>0</td>\n",
       "      <td>0</td>\n",
       "      <td>0</td>\n",
       "      <td>1</td>\n",
       "    </tr>\n",
       "    <tr>\n",
       "      <th>2</th>\n",
       "      <td>2</td>\n",
       "      <td>1</td>\n",
       "      <td>1</td>\n",
       "      <td>0</td>\n",
       "      <td>0</td>\n",
       "      <td>0</td>\n",
       "      <td>0</td>\n",
       "      <td>1</td>\n",
       "      <td>108.15</td>\n",
       "      <td>1</td>\n",
       "      <td>...</td>\n",
       "      <td>0</td>\n",
       "      <td>1</td>\n",
       "      <td>0</td>\n",
       "      <td>1</td>\n",
       "      <td>0</td>\n",
       "      <td>0</td>\n",
       "      <td>0</td>\n",
       "      <td>0</td>\n",
       "      <td>0</td>\n",
       "      <td>1</td>\n",
       "    </tr>\n",
       "    <tr>\n",
       "      <th>3</th>\n",
       "      <td>45</td>\n",
       "      <td>1</td>\n",
       "      <td>0</td>\n",
       "      <td>1</td>\n",
       "      <td>1</td>\n",
       "      <td>0</td>\n",
       "      <td>0</td>\n",
       "      <td>1</td>\n",
       "      <td>1840.75</td>\n",
       "      <td>1</td>\n",
       "      <td>...</td>\n",
       "      <td>0</td>\n",
       "      <td>1</td>\n",
       "      <td>0</td>\n",
       "      <td>0</td>\n",
       "      <td>1</td>\n",
       "      <td>0</td>\n",
       "      <td>1</td>\n",
       "      <td>0</td>\n",
       "      <td>0</td>\n",
       "      <td>0</td>\n",
       "    </tr>\n",
       "    <tr>\n",
       "      <th>4</th>\n",
       "      <td>2</td>\n",
       "      <td>0</td>\n",
       "      <td>0</td>\n",
       "      <td>0</td>\n",
       "      <td>0</td>\n",
       "      <td>0</td>\n",
       "      <td>0</td>\n",
       "      <td>2</td>\n",
       "      <td>151.65</td>\n",
       "      <td>0</td>\n",
       "      <td>...</td>\n",
       "      <td>0</td>\n",
       "      <td>0</td>\n",
       "      <td>1</td>\n",
       "      <td>1</td>\n",
       "      <td>0</td>\n",
       "      <td>0</td>\n",
       "      <td>0</td>\n",
       "      <td>0</td>\n",
       "      <td>1</td>\n",
       "      <td>0</td>\n",
       "    </tr>\n",
       "  </tbody>\n",
       "</table>\n",
       "<p>5 rows × 27 columns</p>\n",
       "</div>"
      ],
      "text/plain": [
       "   tenure  OnlineSecurity  OnlineBackup  DeviceProtection  TechSupport  \\\n",
       "0       1               0             1                 0            0   \n",
       "1      34               1             0                 1            0   \n",
       "2       2               1             1                 0            0   \n",
       "3      45               1             0                 1            1   \n",
       "4       2               0             0                 0            0   \n",
       "\n",
       "   StreamingTV  StreamingMovies  MonthlyCharges  TotalCharges  gender_Male  \\\n",
       "0            0                0               0         29.85            0   \n",
       "1            0                0               1       1889.50            1   \n",
       "2            0                0               1        108.15            1   \n",
       "3            0                0               1       1840.75            1   \n",
       "4            0                0               2        151.65            0   \n",
       "\n",
       "   ...  multiple_lines  DSL  Fiber optic  Month-to-month  One year  Two year  \\\n",
       "0  ...               0    1            0               1         0         0   \n",
       "1  ...               0    1            0               0         1         0   \n",
       "2  ...               0    1            0               1         0         0   \n",
       "3  ...               0    1            0               0         1         0   \n",
       "4  ...               0    0            1               1         0         0   \n",
       "\n",
       "   Bank transfer (automatic)  Credit card (automatic)  Electronic check  \\\n",
       "0                          0                        0                 1   \n",
       "1                          0                        0                 0   \n",
       "2                          0                        0                 0   \n",
       "3                          1                        0                 0   \n",
       "4                          0                        0                 1   \n",
       "\n",
       "   Mailed check  \n",
       "0             0  \n",
       "1             1  \n",
       "2             1  \n",
       "3             0  \n",
       "4             0  \n",
       "\n",
       "[5 rows x 27 columns]"
      ]
     },
     "execution_count": 2,
     "metadata": {},
     "output_type": "execute_result"
    }
   ],
   "source": [
    "df = pd.read_csv('../data/processed/clean.csv')\n",
    "df.head()"
   ]
  },
  {
   "cell_type": "code",
   "execution_count": 3,
   "metadata": {},
   "outputs": [
    {
     "data": {
      "text/plain": [
       "array(['tenure', 'OnlineSecurity', 'OnlineBackup', 'DeviceProtection',\n",
       "       'TechSupport', 'StreamingTV', 'StreamingMovies', 'MonthlyCharges',\n",
       "       'TotalCharges', 'gender_Male', 'Partner_Yes', 'Dependents_Yes',\n",
       "       'PhoneService_Yes', 'PaperlessBilling_Yes', 'Churn_Yes',\n",
       "       'senior_citizen_Yes', 'internet_service_Yes', 'multiple_lines',\n",
       "       'DSL', 'Fiber optic', 'Month-to-month', 'One year', 'Two year',\n",
       "       'Bank transfer (automatic)', 'Credit card (automatic)',\n",
       "       'Electronic check', 'Mailed check'], dtype=object)"
      ]
     },
     "execution_count": 3,
     "metadata": {},
     "output_type": "execute_result"
    }
   ],
   "source": [
    "df.columns.values"
   ]
  },
  {
   "cell_type": "code",
   "execution_count": 4,
   "metadata": {},
   "outputs": [],
   "source": [
    "X = df.drop(['Churn_Yes'], axis = 1)\n",
    "Y = df.Churn_Yes"
   ]
  },
  {
   "cell_type": "code",
   "execution_count": 5,
   "metadata": {},
   "outputs": [
    {
     "data": {
      "text/html": [
       "<div>\n",
       "<style scoped>\n",
       "    .dataframe tbody tr th:only-of-type {\n",
       "        vertical-align: middle;\n",
       "    }\n",
       "\n",
       "    .dataframe tbody tr th {\n",
       "        vertical-align: top;\n",
       "    }\n",
       "\n",
       "    .dataframe thead th {\n",
       "        text-align: right;\n",
       "    }\n",
       "</style>\n",
       "<table border=\"1\" class=\"dataframe\">\n",
       "  <thead>\n",
       "    <tr style=\"text-align: right;\">\n",
       "      <th></th>\n",
       "      <th>tenure</th>\n",
       "      <th>OnlineSecurity</th>\n",
       "      <th>OnlineBackup</th>\n",
       "      <th>DeviceProtection</th>\n",
       "      <th>TechSupport</th>\n",
       "      <th>StreamingTV</th>\n",
       "      <th>StreamingMovies</th>\n",
       "      <th>MonthlyCharges</th>\n",
       "      <th>TotalCharges</th>\n",
       "      <th>gender_Male</th>\n",
       "      <th>...</th>\n",
       "      <th>multiple_lines</th>\n",
       "      <th>DSL</th>\n",
       "      <th>Fiber optic</th>\n",
       "      <th>Month-to-month</th>\n",
       "      <th>One year</th>\n",
       "      <th>Two year</th>\n",
       "      <th>Bank transfer (automatic)</th>\n",
       "      <th>Credit card (automatic)</th>\n",
       "      <th>Electronic check</th>\n",
       "      <th>Mailed check</th>\n",
       "    </tr>\n",
       "  </thead>\n",
       "  <tbody>\n",
       "    <tr>\n",
       "      <th>0</th>\n",
       "      <td>1</td>\n",
       "      <td>0</td>\n",
       "      <td>1</td>\n",
       "      <td>0</td>\n",
       "      <td>0</td>\n",
       "      <td>0</td>\n",
       "      <td>0</td>\n",
       "      <td>0</td>\n",
       "      <td>29.85</td>\n",
       "      <td>0</td>\n",
       "      <td>...</td>\n",
       "      <td>0</td>\n",
       "      <td>1</td>\n",
       "      <td>0</td>\n",
       "      <td>1</td>\n",
       "      <td>0</td>\n",
       "      <td>0</td>\n",
       "      <td>0</td>\n",
       "      <td>0</td>\n",
       "      <td>1</td>\n",
       "      <td>0</td>\n",
       "    </tr>\n",
       "    <tr>\n",
       "      <th>1</th>\n",
       "      <td>34</td>\n",
       "      <td>1</td>\n",
       "      <td>0</td>\n",
       "      <td>1</td>\n",
       "      <td>0</td>\n",
       "      <td>0</td>\n",
       "      <td>0</td>\n",
       "      <td>1</td>\n",
       "      <td>1889.50</td>\n",
       "      <td>1</td>\n",
       "      <td>...</td>\n",
       "      <td>0</td>\n",
       "      <td>1</td>\n",
       "      <td>0</td>\n",
       "      <td>0</td>\n",
       "      <td>1</td>\n",
       "      <td>0</td>\n",
       "      <td>0</td>\n",
       "      <td>0</td>\n",
       "      <td>0</td>\n",
       "      <td>1</td>\n",
       "    </tr>\n",
       "    <tr>\n",
       "      <th>2</th>\n",
       "      <td>2</td>\n",
       "      <td>1</td>\n",
       "      <td>1</td>\n",
       "      <td>0</td>\n",
       "      <td>0</td>\n",
       "      <td>0</td>\n",
       "      <td>0</td>\n",
       "      <td>1</td>\n",
       "      <td>108.15</td>\n",
       "      <td>1</td>\n",
       "      <td>...</td>\n",
       "      <td>0</td>\n",
       "      <td>1</td>\n",
       "      <td>0</td>\n",
       "      <td>1</td>\n",
       "      <td>0</td>\n",
       "      <td>0</td>\n",
       "      <td>0</td>\n",
       "      <td>0</td>\n",
       "      <td>0</td>\n",
       "      <td>1</td>\n",
       "    </tr>\n",
       "    <tr>\n",
       "      <th>3</th>\n",
       "      <td>45</td>\n",
       "      <td>1</td>\n",
       "      <td>0</td>\n",
       "      <td>1</td>\n",
       "      <td>1</td>\n",
       "      <td>0</td>\n",
       "      <td>0</td>\n",
       "      <td>1</td>\n",
       "      <td>1840.75</td>\n",
       "      <td>1</td>\n",
       "      <td>...</td>\n",
       "      <td>0</td>\n",
       "      <td>1</td>\n",
       "      <td>0</td>\n",
       "      <td>0</td>\n",
       "      <td>1</td>\n",
       "      <td>0</td>\n",
       "      <td>1</td>\n",
       "      <td>0</td>\n",
       "      <td>0</td>\n",
       "      <td>0</td>\n",
       "    </tr>\n",
       "    <tr>\n",
       "      <th>4</th>\n",
       "      <td>2</td>\n",
       "      <td>0</td>\n",
       "      <td>0</td>\n",
       "      <td>0</td>\n",
       "      <td>0</td>\n",
       "      <td>0</td>\n",
       "      <td>0</td>\n",
       "      <td>2</td>\n",
       "      <td>151.65</td>\n",
       "      <td>0</td>\n",
       "      <td>...</td>\n",
       "      <td>0</td>\n",
       "      <td>0</td>\n",
       "      <td>1</td>\n",
       "      <td>1</td>\n",
       "      <td>0</td>\n",
       "      <td>0</td>\n",
       "      <td>0</td>\n",
       "      <td>0</td>\n",
       "      <td>1</td>\n",
       "      <td>0</td>\n",
       "    </tr>\n",
       "  </tbody>\n",
       "</table>\n",
       "<p>5 rows × 26 columns</p>\n",
       "</div>"
      ],
      "text/plain": [
       "   tenure  OnlineSecurity  OnlineBackup  DeviceProtection  TechSupport  \\\n",
       "0       1               0             1                 0            0   \n",
       "1      34               1             0                 1            0   \n",
       "2       2               1             1                 0            0   \n",
       "3      45               1             0                 1            1   \n",
       "4       2               0             0                 0            0   \n",
       "\n",
       "   StreamingTV  StreamingMovies  MonthlyCharges  TotalCharges  gender_Male  \\\n",
       "0            0                0               0         29.85            0   \n",
       "1            0                0               1       1889.50            1   \n",
       "2            0                0               1        108.15            1   \n",
       "3            0                0               1       1840.75            1   \n",
       "4            0                0               2        151.65            0   \n",
       "\n",
       "   ...  multiple_lines  DSL  Fiber optic  Month-to-month  One year  Two year  \\\n",
       "0  ...               0    1            0               1         0         0   \n",
       "1  ...               0    1            0               0         1         0   \n",
       "2  ...               0    1            0               1         0         0   \n",
       "3  ...               0    1            0               0         1         0   \n",
       "4  ...               0    0            1               1         0         0   \n",
       "\n",
       "   Bank transfer (automatic)  Credit card (automatic)  Electronic check  \\\n",
       "0                          0                        0                 1   \n",
       "1                          0                        0                 0   \n",
       "2                          0                        0                 0   \n",
       "3                          1                        0                 0   \n",
       "4                          0                        0                 1   \n",
       "\n",
       "   Mailed check  \n",
       "0             0  \n",
       "1             1  \n",
       "2             1  \n",
       "3             0  \n",
       "4             0  \n",
       "\n",
       "[5 rows x 26 columns]"
      ]
     },
     "execution_count": 5,
     "metadata": {},
     "output_type": "execute_result"
    }
   ],
   "source": [
    "X.head()"
   ]
  },
  {
   "cell_type": "code",
   "execution_count": 6,
   "metadata": {},
   "outputs": [
    {
     "data": {
      "text/html": [
       "<div>\n",
       "<style scoped>\n",
       "    .dataframe tbody tr th:only-of-type {\n",
       "        vertical-align: middle;\n",
       "    }\n",
       "\n",
       "    .dataframe tbody tr th {\n",
       "        vertical-align: top;\n",
       "    }\n",
       "\n",
       "    .dataframe thead th {\n",
       "        text-align: right;\n",
       "    }\n",
       "</style>\n",
       "<table border=\"1\" class=\"dataframe\">\n",
       "  <thead>\n",
       "    <tr style=\"text-align: right;\">\n",
       "      <th></th>\n",
       "      <th>TotalCharges</th>\n",
       "      <th>tenure</th>\n",
       "    </tr>\n",
       "  </thead>\n",
       "  <tbody>\n",
       "    <tr>\n",
       "      <th>count</th>\n",
       "      <td>7032.000000</td>\n",
       "      <td>7032.000000</td>\n",
       "    </tr>\n",
       "    <tr>\n",
       "      <th>mean</th>\n",
       "      <td>2283.300441</td>\n",
       "      <td>32.421786</td>\n",
       "    </tr>\n",
       "    <tr>\n",
       "      <th>std</th>\n",
       "      <td>2266.771362</td>\n",
       "      <td>24.545260</td>\n",
       "    </tr>\n",
       "    <tr>\n",
       "      <th>min</th>\n",
       "      <td>18.800000</td>\n",
       "      <td>1.000000</td>\n",
       "    </tr>\n",
       "    <tr>\n",
       "      <th>25%</th>\n",
       "      <td>401.450000</td>\n",
       "      <td>9.000000</td>\n",
       "    </tr>\n",
       "    <tr>\n",
       "      <th>50%</th>\n",
       "      <td>1397.475000</td>\n",
       "      <td>29.000000</td>\n",
       "    </tr>\n",
       "    <tr>\n",
       "      <th>75%</th>\n",
       "      <td>3794.737500</td>\n",
       "      <td>55.000000</td>\n",
       "    </tr>\n",
       "    <tr>\n",
       "      <th>max</th>\n",
       "      <td>8684.800000</td>\n",
       "      <td>72.000000</td>\n",
       "    </tr>\n",
       "  </tbody>\n",
       "</table>\n",
       "</div>"
      ],
      "text/plain": [
       "       TotalCharges       tenure\n",
       "count   7032.000000  7032.000000\n",
       "mean    2283.300441    32.421786\n",
       "std     2266.771362    24.545260\n",
       "min       18.800000     1.000000\n",
       "25%      401.450000     9.000000\n",
       "50%     1397.475000    29.000000\n",
       "75%     3794.737500    55.000000\n",
       "max     8684.800000    72.000000"
      ]
     },
     "execution_count": 6,
     "metadata": {},
     "output_type": "execute_result"
    }
   ],
   "source": [
    "df[['TotalCharges', 'tenure']].describe()"
   ]
  },
  {
   "cell_type": "code",
   "execution_count": 7,
   "metadata": {
    "collapsed": true
   },
   "outputs": [],
   "source": [
    "###Test train split\n",
    "x_train, x_test, y_train, y_test = train_test_split(X, Y, test_size=.2)"
   ]
  },
  {
   "cell_type": "code",
   "execution_count": 8,
   "metadata": {},
   "outputs": [],
   "source": [
    "scaler = StandardScaler()\n",
    "x_train[['TotalCharges', 'tenure']] = scaler.fit_transform(x_train[['TotalCharges', 'tenure']])\n",
    "x_test[['TotalCharges', 'tenure']] = scaler.transform(x_test[['TotalCharges', 'tenure']])"
   ]
  },
  {
   "cell_type": "code",
   "execution_count": 9,
   "metadata": {},
   "outputs": [
    {
     "name": "stdout",
     "output_type": "stream",
     "text": [
      "Random Forest: Accuracy=0.790\n"
     ]
    },
    {
     "data": {
      "text/plain": [
       "array([[847, 194],\n",
       "       [101, 265]])"
      ]
     },
     "execution_count": 9,
     "metadata": {},
     "output_type": "execute_result"
    }
   ],
   "source": [
    "rf_model = RandomForestClassifier(max_depth = 10, random_state = 1234, class_weight = 'balanced')\n",
    "rf_model.fit(x_train, y_train)\n",
    "preds = rf_model.predict(x_test)\n",
    "ac = accuracy_score(y_test, preds)\n",
    "cm = confusion_matrix(y_test, preds)\n",
    "print('Random Forest: Accuracy=%.3f' % (ac))\n",
    "cm"
   ]
  },
  {
   "cell_type": "code",
   "execution_count": 10,
   "metadata": {},
   "outputs": [
    {
     "name": "stdout",
     "output_type": "stream",
     "text": [
      "{'criterion': 'gini', 'max_depth': 8, 'max_features': 'sqrt', 'n_estimators': 100}\n",
      "Accuracy: 0.8102345415778252\n"
     ]
    },
    {
     "data": {
      "text/plain": [
       "array([[949,  92],\n",
       "       [175, 191]])"
      ]
     },
     "execution_count": 10,
     "metadata": {},
     "output_type": "execute_result"
    }
   ],
   "source": [
    "params = {\n",
    "    'criterion': ['gini', 'entropy'],\n",
    "    'n_estimators': [10, 30, 50, 100],\n",
    "    'max_features': ['sqrt', 0.25, 0.5, 0.75, 1.0],\n",
    "    'max_depth' : [4,5,6,7,8]\n",
    "    }\n",
    "    \n",
    "rfc = RandomForestClassifier()\n",
    "rfc_grid_cv = GridSearchCV(rfc, param_grid=params, cv=5, n_jobs=-1)\n",
    "\n",
    "rfc_grid_cv.fit(x_train, y_train)\n",
    "print(rfc_grid_cv.best_params_)\n",
    "\n",
    "best_rfc = rfc_grid_cv.best_estimator_\n",
    "best_preds = best_rfc.predict(x_test)\n",
    "print(\"Accuracy:\", accuracy_score(y_test, best_preds))\n",
    "cm = confusion_matrix(y_test, best_preds)\n",
    "cm"
   ]
  },
  {
   "cell_type": "code",
   "execution_count": 11,
   "metadata": {},
   "outputs": [
    {
     "data": {
      "image/png": "[encoded data removed]",
      "text/plain": [
       "<Figure size 720x720 with 1 Axes>"
      ]
     },
     "metadata": {
      "needs_background": "light"
     },
     "output_type": "display_data"
    }
   ],
   "source": [
    "feature_importance = best_rfc.feature_importances_\n",
    "feature_importance = 100.0 * (feature_importance / feature_importance.max())\n",
    "sorted_idx = np.argsort(feature_importance)\n",
    "pos = np.arange(sorted_idx.shape[0]) + .5\n",
    "plt.figure(figsize=(10,10))\n",
    "plt.barh(pos, feature_importance[sorted_idx], align='center')\n",
    "plt.yticks(pos, X.columns[sorted_idx])\n",
    "plt.xlabel('Relative Importance')\n",
    "plt.title('Variable Importance')\n",
    "plt.show()"
   ]
  },
  {
   "cell_type": "code",
   "execution_count": 12,
   "metadata": {},
   "outputs": [
    {
     "name": "stdout",
     "output_type": "stream",
     "text": [
      "Accuracy: 0.8130774697938877\n"
     ]
    },
    {
     "data": {
      "text/plain": [
       "array([[945,  96],\n",
       "       [167, 199]])"
      ]
     },
     "execution_count": 12,
     "metadata": {},
     "output_type": "execute_result"
    }
   ],
   "source": [
    "lr_clf = LogisticRegression().fit(x_train, y_train)\n",
    "lr_preds = lr_clf.predict(x_test)\n",
    "print(\"Accuracy:\", accuracy_score(y_test, lr_preds))\n",
    "cm = confusion_matrix(y_test, lr_preds)\n",
    "cm"
   ]
  },
  {
   "cell_type": "code",
   "execution_count": 13,
   "metadata": {},
   "outputs": [
    {
     "name": "stdout",
     "output_type": "stream",
     "text": [
      "{'C': 0.4832930238571752, 'class_weight': None, 'penalty': 'l2'}\n",
      "Accuracy: 0.8130774697938877\n"
     ]
    },
    {
     "data": {
      "text/plain": [
       "array([[946,  95],\n",
       "       [168, 198]])"
      ]
     },
     "execution_count": 13,
     "metadata": {},
     "output_type": "execute_result"
    }
   ],
   "source": [
    "lr_param_grid = {\n",
    "    'penalty' : ['l2'],\n",
    "    'C' : np.logspace(-2, 2, 20),\n",
    "    'class_weight' : ['balanced', None]}\n",
    "lrc = LogisticRegression()\n",
    "lrc_grid_cv = GridSearchCV(lrc, param_grid = lr_param_grid, cv=5, n_jobs=-1)\n",
    "\n",
    "lrc_grid_cv.fit(x_train, y_train)\n",
    "print(lrc_grid_cv.best_params_)\n",
    "\n",
    "best_lrc = lrc_grid_cv.best_estimator_\n",
    "best_lr_preds = best_lrc.predict(x_test)\n",
    "print(\"Accuracy:\", accuracy_score(y_test, best_lr_preds))\n",
    "cm = confusion_matrix(y_test, best_lr_preds)\n",
    "cm"
   ]
  },
  {
   "cell_type": "code",
   "execution_count": 14,
   "metadata": {},
   "outputs": [
    {
     "name": "stdout",
     "output_type": "stream",
     "text": [
      "[0.34498733 0.16484014 0.06450968 0.03873156 0.03423696 0.03375894\n",
      " 0.03191032 0.02915294 0.02839478 0.02755864 0.0247356  0.02267607\n",
      " 0.02179594 0.01947115 0.01839739 0.01741938 0.01636077 0.01501264]\n"
     ]
    }
   ],
   "source": [
    "pca = PCA(n_components = 18)\n",
    "pca_xtrain = pca.fit_transform(x_train)\n",
    "pca_xtest = pca.transform(x_test)\n",
    "print(pca.explained_variance_ratio_)"
   ]
  },
  {
   "cell_type": "code",
   "execution_count": 15,
   "metadata": {},
   "outputs": [
    {
     "name": "stdout",
     "output_type": "stream",
     "text": [
      "{'C': 0.016237767391887217, 'class_weight': None, 'penalty': 'l2'}\n",
      "Accuracy: 0.806680881307747\n"
     ]
    },
    {
     "data": {
      "text/plain": [
       "array([[953,  88],\n",
       "       [184, 182]])"
      ]
     },
     "execution_count": 15,
     "metadata": {},
     "output_type": "execute_result"
    }
   ],
   "source": [
    "pca_lrc = LogisticRegression()\n",
    "pca_grid_cv = GridSearchCV(pca_lrc, param_grid = lr_param_grid, cv=5, n_jobs=-1)\n",
    "\n",
    "pca_grid_cv.fit(pca_xtrain, y_train)\n",
    "print(pca_grid_cv.best_params_)\n",
    "\n",
    "best_pca = pca_grid_cv.best_estimator_\n",
    "best_pca_preds = best_pca.predict(pca_xtest)\n",
    "print(\"Accuracy:\", accuracy_score(y_test, best_pca_preds))\n",
    "cm = confusion_matrix(y_test, best_pca_preds)\n",
    "cm"
   ]
  },
  {
   "cell_type": "code",
   "execution_count": 16,
   "metadata": {},
   "outputs": [
    {
     "data": {
      "text/plain": [
       "Pipeline(steps=[('standardscaler', StandardScaler()),\n",
       "                ('svc', SVC(gamma='auto', probability=True))])"
      ]
     },
     "execution_count": 16,
     "metadata": {},
     "output_type": "execute_result"
    }
   ],
   "source": [
    "svc = make_pipeline(StandardScaler(), SVC(gamma='auto', probability=True))\n",
    "svc.fit(x_train, y_train)"
   ]
  },
  {
   "cell_type": "code",
   "execution_count": 17,
   "metadata": {},
   "outputs": [
    {
     "name": "stdout",
     "output_type": "stream",
     "text": [
      "Accuracy: 0.8031272210376688\n"
     ]
    }
   ],
   "source": [
    "svc_preds = svc.predict(x_test)\n",
    "print(\"Accuracy:\", accuracy_score(y_test, svc_preds))\n",
    "cm = confusion_matrix(y_test, svc_preds)"
   ]
  },
  {
   "cell_type": "code",
   "execution_count": 18,
   "metadata": {},
   "outputs": [
    {
     "name": "stdout",
     "output_type": "stream",
     "text": [
      "Fitting 5 folds for each of 6 candidates, totalling 30 fits\n"
     ]
    },
    {
     "data": {
      "text/plain": [
       "{'C': 10, 'kernel': 'linear'}"
      ]
     },
     "execution_count": 18,
     "metadata": {},
     "output_type": "execute_result"
    }
   ],
   "source": [
    "#svc_params = {'C':[1,10,100],'gamma':[1,0.1,0.001], 'kernel':['linear','rbf']}\n",
    "svc_params = {'C':[1,10,100], 'kernel':['linear','rbf']}\n",
    "svc_grid = GridSearchCV(SVC(gamma='auto'), svc_params, verbose=1)\n",
    "svc_grid.fit(x_train,y_train)\n",
    "svc_grid.best_params_"
   ]
  },
  {
   "cell_type": "code",
   "execution_count": 19,
   "metadata": {},
   "outputs": [
    {
     "name": "stdout",
     "output_type": "stream",
     "text": [
      "SVC Accuracy: 0.8031272210376688\n"
     ]
    },
    {
     "data": {
      "text/plain": [
       "array([[937, 104],\n",
       "       [173, 193]])"
      ]
     },
     "execution_count": 19,
     "metadata": {},
     "output_type": "execute_result"
    }
   ],
   "source": [
    "svc_best = svc_grid.best_estimator_\n",
    "svc_preds = svc_best.predict(x_test)\n",
    "print(\"SVC Accuracy:\", accuracy_score(y_test, svc_preds))\n",
    "cm = confusion_matrix(y_test, svc_preds)\n",
    "cm"
   ]
  },
  {
   "cell_type": "code",
   "execution_count": 20,
   "metadata": {},
   "outputs": [
    {
     "data": {
      "text/html": [
       "<div>\n",
       "<style scoped>\n",
       "    .dataframe tbody tr th:only-of-type {\n",
       "        vertical-align: middle;\n",
       "    }\n",
       "\n",
       "    .dataframe tbody tr th {\n",
       "        vertical-align: top;\n",
       "    }\n",
       "\n",
       "    .dataframe thead th {\n",
       "        text-align: right;\n",
       "    }\n",
       "</style>\n",
       "<table border=\"1\" class=\"dataframe\">\n",
       "  <thead>\n",
       "    <tr style=\"text-align: right;\">\n",
       "      <th></th>\n",
       "      <th>tenure</th>\n",
       "      <th>OnlineSecurity</th>\n",
       "      <th>OnlineBackup</th>\n",
       "      <th>DeviceProtection</th>\n",
       "      <th>TechSupport</th>\n",
       "      <th>StreamingTV</th>\n",
       "      <th>StreamingMovies</th>\n",
       "      <th>MonthlyCharges</th>\n",
       "      <th>TotalCharges</th>\n",
       "      <th>gender_Male</th>\n",
       "      <th>...</th>\n",
       "      <th>multiple_lines</th>\n",
       "      <th>DSL</th>\n",
       "      <th>Fiber optic</th>\n",
       "      <th>Month-to-month</th>\n",
       "      <th>One year</th>\n",
       "      <th>Two year</th>\n",
       "      <th>Bank transfer (automatic)</th>\n",
       "      <th>Credit card (automatic)</th>\n",
       "      <th>Electronic check</th>\n",
       "      <th>Mailed check</th>\n",
       "    </tr>\n",
       "  </thead>\n",
       "  <tbody>\n",
       "    <tr>\n",
       "      <th>0</th>\n",
       "      <td>1</td>\n",
       "      <td>0</td>\n",
       "      <td>1</td>\n",
       "      <td>0</td>\n",
       "      <td>0</td>\n",
       "      <td>0</td>\n",
       "      <td>0</td>\n",
       "      <td>0</td>\n",
       "      <td>29.85</td>\n",
       "      <td>0</td>\n",
       "      <td>...</td>\n",
       "      <td>0</td>\n",
       "      <td>1</td>\n",
       "      <td>0</td>\n",
       "      <td>1</td>\n",
       "      <td>0</td>\n",
       "      <td>0</td>\n",
       "      <td>0</td>\n",
       "      <td>0</td>\n",
       "      <td>1</td>\n",
       "      <td>0</td>\n",
       "    </tr>\n",
       "    <tr>\n",
       "      <th>1</th>\n",
       "      <td>34</td>\n",
       "      <td>1</td>\n",
       "      <td>0</td>\n",
       "      <td>1</td>\n",
       "      <td>0</td>\n",
       "      <td>0</td>\n",
       "      <td>0</td>\n",
       "      <td>1</td>\n",
       "      <td>1889.50</td>\n",
       "      <td>1</td>\n",
       "      <td>...</td>\n",
       "      <td>0</td>\n",
       "      <td>1</td>\n",
       "      <td>0</td>\n",
       "      <td>0</td>\n",
       "      <td>1</td>\n",
       "      <td>0</td>\n",
       "      <td>0</td>\n",
       "      <td>0</td>\n",
       "      <td>0</td>\n",
       "      <td>1</td>\n",
       "    </tr>\n",
       "    <tr>\n",
       "      <th>2</th>\n",
       "      <td>2</td>\n",
       "      <td>1</td>\n",
       "      <td>1</td>\n",
       "      <td>0</td>\n",
       "      <td>0</td>\n",
       "      <td>0</td>\n",
       "      <td>0</td>\n",
       "      <td>1</td>\n",
       "      <td>108.15</td>\n",
       "      <td>1</td>\n",
       "      <td>...</td>\n",
       "      <td>0</td>\n",
       "      <td>1</td>\n",
       "      <td>0</td>\n",
       "      <td>1</td>\n",
       "      <td>0</td>\n",
       "      <td>0</td>\n",
       "      <td>0</td>\n",
       "      <td>0</td>\n",
       "      <td>0</td>\n",
       "      <td>1</td>\n",
       "    </tr>\n",
       "    <tr>\n",
       "      <th>3</th>\n",
       "      <td>45</td>\n",
       "      <td>1</td>\n",
       "      <td>0</td>\n",
       "      <td>1</td>\n",
       "      <td>1</td>\n",
       "      <td>0</td>\n",
       "      <td>0</td>\n",
       "      <td>1</td>\n",
       "      <td>1840.75</td>\n",
       "      <td>1</td>\n",
       "      <td>...</td>\n",
       "      <td>0</td>\n",
       "      <td>1</td>\n",
       "      <td>0</td>\n",
       "      <td>0</td>\n",
       "      <td>1</td>\n",
       "      <td>0</td>\n",
       "      <td>1</td>\n",
       "      <td>0</td>\n",
       "      <td>0</td>\n",
       "      <td>0</td>\n",
       "    </tr>\n",
       "    <tr>\n",
       "      <th>4</th>\n",
       "      <td>2</td>\n",
       "      <td>0</td>\n",
       "      <td>0</td>\n",
       "      <td>0</td>\n",
       "      <td>0</td>\n",
       "      <td>0</td>\n",
       "      <td>0</td>\n",
       "      <td>2</td>\n",
       "      <td>151.65</td>\n",
       "      <td>0</td>\n",
       "      <td>...</td>\n",
       "      <td>0</td>\n",
       "      <td>0</td>\n",
       "      <td>1</td>\n",
       "      <td>1</td>\n",
       "      <td>0</td>\n",
       "      <td>0</td>\n",
       "      <td>0</td>\n",
       "      <td>0</td>\n",
       "      <td>1</td>\n",
       "      <td>0</td>\n",
       "    </tr>\n",
       "  </tbody>\n",
       "</table>\n",
       "<p>5 rows × 27 columns</p>\n",
       "</div>"
      ],
      "text/plain": [
       "   tenure  OnlineSecurity  OnlineBackup  DeviceProtection  TechSupport  \\\n",
       "0       1               0             1                 0            0   \n",
       "1      34               1             0                 1            0   \n",
       "2       2               1             1                 0            0   \n",
       "3      45               1             0                 1            1   \n",
       "4       2               0             0                 0            0   \n",
       "\n",
       "   StreamingTV  StreamingMovies  MonthlyCharges  TotalCharges  gender_Male  \\\n",
       "0            0                0               0         29.85            0   \n",
       "1            0                0               1       1889.50            1   \n",
       "2            0                0               1        108.15            1   \n",
       "3            0                0               1       1840.75            1   \n",
       "4            0                0               2        151.65            0   \n",
       "\n",
       "   ...  multiple_lines  DSL  Fiber optic  Month-to-month  One year  Two year  \\\n",
       "0  ...               0    1            0               1         0         0   \n",
       "1  ...               0    1            0               0         1         0   \n",
       "2  ...               0    1            0               1         0         0   \n",
       "3  ...               0    1            0               0         1         0   \n",
       "4  ...               0    0            1               1         0         0   \n",
       "\n",
       "   Bank transfer (automatic)  Credit card (automatic)  Electronic check  \\\n",
       "0                          0                        0                 1   \n",
       "1                          0                        0                 0   \n",
       "2                          0                        0                 0   \n",
       "3                          1                        0                 0   \n",
       "4                          0                        0                 1   \n",
       "\n",
       "   Mailed check  \n",
       "0             0  \n",
       "1             1  \n",
       "2             1  \n",
       "3             0  \n",
       "4             0  \n",
       "\n",
       "[5 rows x 27 columns]"
      ]
     },
     "execution_count": 20,
     "metadata": {},
     "output_type": "execute_result"
    }
   ],
   "source": [
    "df.head()"
   ]
  },
  {
   "cell_type": "code",
   "execution_count": 21,
   "metadata": {},
   "outputs": [],
   "source": [
    "stopping = EarlyStopping(patience = 10),\n",
    "checkpoint = ModelCheckpoint(filepath = 'churn_model.h5', save_best_only = True),\n",
    "reduce_lr = ReduceLROnPlateau(monitor = 'val_loss', factor = 0.2, patience = 5, min_lr = 0.001, verbose = 2)\n",
    "callbacks = [stopping, checkpoint, reduce_lr]"
   ]
  },
  {
   "cell_type": "code",
   "execution_count": 22,
   "metadata": {},
   "outputs": [
    {
     "name": "stderr",
     "output_type": "stream",
     "text": [
      "2022-11-02 12:28:15.428723: I tensorflow/core/platform/cpu_feature_guard.cc:145] This TensorFlow binary is optimized with Intel(R) MKL-DNN to use the following CPU instructions in performance critical operations:  SSE4.1 SSE4.2 AVX AVX2 FMA\n",
      "To enable them in non-MKL-DNN operations, rebuild TensorFlow with the appropriate compiler flags.\n",
      "2022-11-02 12:28:15.429262: I tensorflow/core/common_runtime/process_util.cc:115] Creating new thread pool with default inter op setting: 8. Tune using inter_op_parallelism_threads for best performance.\n"
     ]
    }
   ],
   "source": [
    "input_shape = x_train.shape[1]\n",
    "ff_model = Sequential()\n",
    "ff_model.add(Dense(256, input_shape = (input_shape,), activation = 'relu'))\n",
    "ff_model.add(Dense(256, activation = 'relu'))\n",
    "ff_model.add(Dropout(.3))\n",
    "ff_model.add(Dense(512, activation = 'relu'))\n",
    "ff_model.add(Dense(1, activation = 'sigmoid'))\n",
    "ff_model.compile(loss = 'binary_crossentropy', optimizer = 'adam', metrics = ['accuracy'])    "
   ]
  },
  {
   "cell_type": "code",
   "execution_count": 23,
   "metadata": {},
   "outputs": [
    {
     "name": "stdout",
     "output_type": "stream",
     "text": [
      "WARNING:tensorflow:Falling back from v2 loop because of error: Failed to find data adapter that can handle input: <class 'pandas.core.frame.DataFrame'>, <class 'NoneType'>\n",
      "Train on 4500 samples, validate on 1125 samples\n",
      "Epoch 1/5\n",
      "4500/4500 [==============================] - 2s 474us/sample - loss: 0.4500 - accuracy: 0.7853 - val_loss: 0.4163 - val_accuracy: 0.8098\n",
      "Epoch 2/5\n",
      "4500/4500 [==============================] - 1s 278us/sample - loss: 0.4267 - accuracy: 0.8027 - val_loss: 0.4217 - val_accuracy: 0.7982\n",
      "Epoch 3/5\n",
      "4500/4500 [==============================] - 1s 280us/sample - loss: 0.4214 - accuracy: 0.7980 - val_loss: 0.4164 - val_accuracy: 0.8062\n",
      "Epoch 4/5\n",
      "4500/4500 [==============================] - 1s 284us/sample - loss: 0.4144 - accuracy: 0.8073 - val_loss: 0.4213 - val_accuracy: 0.8009\n",
      "Epoch 5/5\n",
      "4500/4500 [==============================] - 1s 286us/sample - loss: 0.4106 - accuracy: 0.8051 - val_loss: 0.4200 - val_accuracy: 0.7991\n"
     ]
    }
   ],
   "source": [
    "hist = ff_model.fit(x_train, y_train, epochs = 5, validation_split = .2)"
   ]
  },
  {
   "cell_type": "code",
   "execution_count": 24,
   "metadata": {},
   "outputs": [
    {
     "name": "stdout",
     "output_type": "stream",
     "text": [
      "WARNING:tensorflow:Falling back from v2 loop because of error: Failed to find data adapter that can handle input: <class 'pandas.core.frame.DataFrame'>, <class 'NoneType'>\n"
     ]
    }
   ],
   "source": [
    "ff_preds = ff_model.predict(x_test)"
   ]
  },
  {
   "cell_type": "code",
   "execution_count": 25,
   "metadata": {},
   "outputs": [
    {
     "data": {
      "text/plain": [
       "0.8109452736318408"
      ]
     },
     "execution_count": 25,
     "metadata": {},
     "output_type": "execute_result"
    }
   ],
   "source": [
    "pred_binaries = [1 if x > .5 else 0 for x in ff_preds]\n",
    "accuracy_score(y_test, pred_binaries)"
   ]
  },
  {
   "cell_type": "code",
   "execution_count": 26,
   "metadata": {},
   "outputs": [
    {
     "data": {
      "text/plain": [
       "array([[960,  81],\n",
       "       [185, 181]])"
      ]
     },
     "execution_count": 26,
     "metadata": {},
     "output_type": "execute_result"
    }
   ],
   "source": [
    "confusion_matrix(y_test, pred_binaries)"
   ]
  },
  {
   "cell_type": "code",
   "execution_count": 27,
   "metadata": {},
   "outputs": [
    {
     "data": {
      "image/png": "[encoded data removed]",
      "text/plain": [
       "<Figure size 432x288 with 1 Axes>"
      ]
     },
     "metadata": {
      "needs_background": "light"
     },
     "output_type": "display_data"
    }
   ],
   "source": [
    "fpr, tpr, _ = roc_curve(y_test, ff_preds)\n",
    "auc = roc_auc_score(y_test, ff_preds)\n",
    "plt.plot(fpr, tpr, label = 'auc=' +str(auc))\n",
    "plt.legend(loc = 4)\n",
    "plt.show()"
   ]
  },
  {
   "cell_type": "code",
   "execution_count": 28,
   "metadata": {},
   "outputs": [
    {
     "name": "stdout",
     "output_type": "stream",
     "text": [
      "Final Accuracy Score \n",
      "0.8123667377398721\n"
     ]
    }
   ],
   "source": [
    "clf1 = best_rfc\n",
    "clf2 = best_lrc\n",
    "clf3 = svc\n",
    "#v_clf = VotingClassifier(estimators=[('rfc', clf1), ('lrc', clf2), ('svc', clf3)], voting='soft')\n",
    "v_clf = VotingClassifier(estimators=[('rfc', clf1), ('lrc', clf2)], voting='soft')\n",
    "v_clf.fit(x_train, y_train)\n",
    "predictions = v_clf.predict(x_test)\n",
    "print(\"Final Accuracy Score \")\n",
    "print(accuracy_score(y_test, predictions))"
   ]
  },
  {
   "cell_type": "code",
   "execution_count": 29,
   "metadata": {},
   "outputs": [
    {
     "data": {
      "text/plain": [
       "array([[949,  92],\n",
       "       [172, 194]])"
      ]
     },
     "execution_count": 29,
     "metadata": {},
     "output_type": "execute_result"
    }
   ],
   "source": [
    "confusion_matrix(y_test, predictions)"
   ]
  }
 ],
 "metadata": {
  "kernelspec": {
   "display_name": "Python [conda env:satview]",
   "language": "python",
   "name": "conda-env-satview-py"
  },
  "language_info": {
   "codemirror_mode": {
    "name": "ipython",
    "version": 3
   },
   "file_extension": ".py",
   "mimetype": "text/x-python",
   "name": "python",
   "nbconvert_exporter": "python",
   "pygments_lexer": "ipython3",
   "version": "3.7.13"
  }
 },
 "nbformat": 4,
 "nbformat_minor": 2
}
